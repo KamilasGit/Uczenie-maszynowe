{
  "nbformat": 4,
  "nbformat_minor": 0,
  "metadata": {
    "colab": {
      "provenance": []
    },
    "kernelspec": {
      "name": "python3",
      "display_name": "Python 3"
    },
    "language_info": {
      "name": "python"
    }
  },
  "cells": [
    {
      "cell_type": "code",
      "execution_count": 10,
      "metadata": {
        "colab": {
          "base_uri": "https://localhost:8080/"
        },
        "id": "_maEvfysa4kQ",
        "outputId": "5b600e69-11b8-4982-925a-81cd0e130c37"
      },
      "outputs": [
        {
          "output_type": "stream",
          "name": "stdout",
          "text": [
            "Default\n",
            "1/1 [==============================] - 0s 56ms/step\n",
            "[[0.4096483 ]\n",
            " [0.5572751 ]\n",
            " [0.5927199 ]\n",
            " [0.50564224]]\n",
            "Bramka OR\n",
            "1/1 [==============================] - 0s 21ms/step\n",
            "[[0.09727065]\n",
            " [0.9473097 ]\n",
            " [0.95280844]\n",
            " [0.9762549 ]]\n",
            "Bramka NOR\n",
            "1/1 [==============================] - 0s 22ms/step\n",
            "[[0.71349114]\n",
            " [0.08912912]\n",
            " [0.08464503]\n",
            " [0.03672649]]\n",
            "Bramka AND\n",
            "1/1 [==============================] - 0s 22ms/step\n",
            "[[0.07079042]\n",
            " [0.11911006]\n",
            " [0.13691007]\n",
            " [0.511803  ]]\n",
            "Bramka NAND\n",
            "1/1 [==============================] - 0s 21ms/step\n",
            "[[0.8524596 ]\n",
            " [0.82324183]\n",
            " [0.7818154 ]\n",
            " [0.5395298 ]]\n"
          ]
        }
      ],
      "source": [
        "from keras.models import Sequential\n",
        "from keras.layers import *\n",
        "import numpy as np\n",
        "\n",
        "m = Sequential()\n",
        "\n",
        "#Architektura 1\n",
        "#m.add(Dense(2,input_dim=2, activation='tanh'))\n",
        "#m.add(Dense(12,input_dim=2, activation='tanh'))\n",
        "#m.add(Activation('tanh'))\n",
        "\n",
        "#Architektura 2\n",
        "m.add(Dense(6,input_dim=2, activation='tanh'))\n",
        "m.add(Dense(20,input_dim=2, activation='tanh'))\n",
        "\n",
        "m.add(Dense(1,activation='sigmoid'))\n",
        "\n",
        "#m.add(Activation('sigmoid'))\n",
        "\n",
        "X = np.array([[0,0],[0,1],[1,0],[1,1]],'float32')\n",
        "Y = np.array([[0],[1],[1],[0]],'float32')\n",
        "m.compile(optimizer='adam',loss='binary_crossentropy')\n",
        "\n",
        "print('Default')\n",
        "m.fit(X,Y,batch_size=1,epochs=200,verbose=0)\n",
        "print(m.predict(X))\n",
        "\n",
        "#Bramka OR\n",
        "print('Bramka OR')\n",
        "X1 = np.array([[0,0],[0,1],[1,0],[1,1]],'float32')\n",
        "Y1 = np.array([[0],[1],[1],[1]],'float32')\n",
        "\n",
        "m.fit(X1,Y1,batch_size=1,epochs=200,verbose=0)\n",
        "print(m.predict(X1))\n",
        "\n",
        "#Bramka NOR\n",
        "X2 = np.array([[0,0],[0,1],[1,0],[1,1]],'float32')\n",
        "Y2 = np.array([[1],[0],[0],[0]],'float32')\n",
        "\n",
        "print('Bramka NOR')\n",
        "m.fit(X2,Y2,batch_size=1,epochs=200,verbose=0)\n",
        "print(m.predict(X2))\n",
        "\n",
        "#Bramka AND\n",
        "X3 = np.array([[0,0],[0,1],[1,0],[1,1]],'float32')\n",
        "Y3 = np.array([[0],[0],[0],[1]],'float32')\n",
        "\n",
        "print('Bramka AND')\n",
        "m.fit(X3,Y3,batch_size=1,epochs=200,verbose=0)\n",
        "print(m.predict(X3))\n",
        "\n",
        "#Bramka NAND\n",
        "X4 = np.array([[0,0],[0,1],[1,0],[1,1]],'float32')\n",
        "Y4 = np.array([[1],[1],[1],[0]],'float32')\n",
        "\n",
        "print('Bramka NAND')\n",
        "m.fit(X4,Y4,batch_size=1,epochs=200,verbose=0)\n",
        "print(m.predict(X4))\n",
        "\n",
        "\n"
      ]
    }
  ]
}